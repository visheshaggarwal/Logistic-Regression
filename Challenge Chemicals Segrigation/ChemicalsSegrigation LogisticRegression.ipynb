{
 "cells": [
  {
   "cell_type": "markdown",
   "metadata": {},
   "source": [
    "### Importing Libraries"
   ]
  },
  {
   "cell_type": "code",
   "execution_count": 2,
   "metadata": {},
   "outputs": [],
   "source": [
    "import pandas as pd\n",
    "import numpy as np\n",
    "import matplotlib.pyplot as plt"
   ]
  },
  {
   "cell_type": "markdown",
   "metadata": {},
   "source": [
    "### Importing Datasets"
   ]
  },
  {
   "cell_type": "code",
   "execution_count": 3,
   "metadata": {},
   "outputs": [
    {
     "name": "stdout",
     "output_type": "stream",
     "text": [
      "(3000, 3)\n",
      "(3000, 1)\n"
     ]
    }
   ],
   "source": [
    "X = pd.read_csv('Logistic_X_Train.csv').values\n",
    "Y = pd.read_csv('Logistic_Y_Train.csv').values\n",
    "print(X.shape)\n",
    "print(Y.shape)"
   ]
  },
  {
   "cell_type": "code",
   "execution_count": 4,
   "metadata": {},
   "outputs": [
    {
     "name": "stdout",
     "output_type": "stream",
     "text": [
      "[[-1.23937466  0.74910149 -0.52851491]\n",
      " [-1.03607028  0.80143631 -1.28371152]\n",
      " [-0.61557914  1.57952053 -1.39192706]\n",
      " [ 1.33597757  1.34865062  1.43356425]]\n"
     ]
    }
   ],
   "source": [
    "print(X[:4,:])"
   ]
  },
  {
   "cell_type": "markdown",
   "metadata": {},
   "source": [
    "### Algorithm"
   ]
  },
  {
   "cell_type": "code",
   "execution_count": 28,
   "metadata": {},
   "outputs": [],
   "source": [
    "def sigmoid(z):\n",
    "    return 1.0/(1.0 + np.exp(-1.0*z))\n",
    "\n",
    "def hypothesis(x,theta,bias):\n",
    "    hx = np.dot(x,theta) + bias\n",
    "    return sigmoid(hx)\n",
    "\n",
    "def error(x,theta,bias,y):\n",
    "    m = x.shape[0]\n",
    "    total_err = 0.0\n",
    "    for i in range(m):\n",
    "        hx = hypothesis(x[i],theta,bias)\n",
    "        total_err += y[i]*np.log2(hx) + (1-y[i])*np.log2(1-hx)\n",
    "        \n",
    "    return -(total_err)/m\n",
    "\n",
    "\n",
    "def gradient(x,theta,bias,y):\n",
    "    m = x.shape[0]\n",
    "    grad_theta = np.zeros(theta.shape)\n",
    "    grad_bias = 0.0\n",
    "    \n",
    "    for i in range(m):\n",
    "        hx = hypothesis(x[i],theta,bias)\n",
    "        grad_theta += (y[i] - hx)*x[i]\n",
    "        grad_bias += y[i] - hx\n",
    "        \n",
    "    return grad_theta/m,grad_bias/m\n",
    "\n",
    "def GradientAscent(x,y,theta,bias,learning_rate):\n",
    "    \n",
    "    err = error(x,theta,bias,y)\n",
    "    grad_theta,grad_bias = gradient(x,theta,bias,y)\n",
    "    theta = theta + learning_rate*grad_theta\n",
    "    bias += learning_rate*(grad_bias)\n",
    "    \n",
    "    return theta,bias,err\n",
    "\n"
   ]
  },
  {
   "cell_type": "code",
   "execution_count": 47,
   "metadata": {},
   "outputs": [],
   "source": [
    "theta = 2*np.random.random((X.shape[1],))\n",
    "bias = 5*np.random.random()\n",
    "Err = []\n",
    "for i in range(1200):\n",
    "    theta,bias,err = GradientAscent(X,Y,theta,bias,0.1)\n",
    "    Err.append(err)"
   ]
  },
  {
   "cell_type": "code",
   "execution_count": 53,
   "metadata": {},
   "outputs": [
    {
     "data": {
      "text/plain": [
       "[<matplotlib.lines.Line2D at 0x223abee6c88>]"
      ]
     },
     "execution_count": 53,
     "metadata": {},
     "output_type": "execute_result"
    },
    {
     "data": {
      "image/png": "[encoded data removed]",
      "text/plain": [
       "<Figure size 432x288 with 1 Axes>"
      ]
     },
     "metadata": {},
     "output_type": "display_data"
    }
   ],
   "source": [
    "plt.plot(Err)"
   ]
  },
  {
   "cell_type": "code",
   "execution_count": 54,
   "metadata": {},
   "outputs": [
    {
     "name": "stdout",
     "output_type": "stream",
     "text": [
      "[array([0.07133209]), array([0.07131263]), array([0.07129319]), array([0.07127377]), array([0.07125439]), array([0.07123502]), array([0.07121569]), array([0.07119638]), array([0.07117709]), array([0.07115783])]\n"
     ]
    }
   ],
   "source": [
    "print(Err[-10:])"
   ]
  },
  {
   "cell_type": "code",
   "execution_count": 55,
   "metadata": {},
   "outputs": [],
   "source": [
    "def predict(x,theta,bias):\n",
    "    hx = hypothesis(x,theta,bias)\n",
    "    if hx<0.5:\n",
    "        return 0\n",
    "    else:\n",
    "        return 1"
   ]
  },
  {
   "cell_type": "code",
   "execution_count": 56,
   "metadata": {},
   "outputs": [
    {
     "name": "stdout",
     "output_type": "stream",
     "text": [
      "0.992\n"
     ]
    }
   ],
   "source": [
    "correct = 0\n",
    "for i in range(X.shape[0]):\n",
    "    if Y[i] == predict(X[i],theta,bias):\n",
    "        correct += 1\n",
    "        \n",
    "print(correct/X.shape[0])"
   ]
  },
  {
   "cell_type": "code",
   "execution_count": 52,
   "metadata": {},
   "outputs": [],
   "source": [
    "for i in range(300):\n",
    "    theta,bias,err = GradientAscent(X,Y,theta,bias,0.1)\n",
    "    Err.append(err)"
   ]
  },
  {
   "cell_type": "code",
   "execution_count": 63,
   "metadata": {},
   "outputs": [],
   "source": [
    "Xt = pd.read_csv('Logistic_X_Test.csv').values\n",
    "Yt = []\n",
    "for i in range(Xt.shape[0]):\n",
    "    Yt.append(predict(Xt[i],theta,bias))\n",
    "    \n"
   ]
  },
  {
   "cell_type": "code",
   "execution_count": 64,
   "metadata": {},
   "outputs": [
    {
     "name": "stdout",
     "output_type": "stream",
     "text": [
      "     0\n",
      "0    1\n",
      "1    1\n",
      "2    0\n",
      "3    1\n",
      "4    1\n",
      "5    1\n",
      "6    0\n",
      "7    1\n",
      "8    0\n",
      "9    0\n",
      "10   0\n",
      "11   1\n",
      "12   1\n",
      "13   1\n",
      "14   1\n",
      "15   0\n",
      "16   1\n",
      "17   0\n",
      "18   1\n",
      "19   0\n",
      "20   1\n",
      "21   0\n",
      "22   1\n",
      "23   0\n",
      "24   1\n",
      "25   1\n",
      "26   0\n",
      "27   0\n",
      "28   0\n",
      "29   1\n",
      "..  ..\n",
      "970  1\n",
      "971  1\n",
      "972  0\n",
      "973  1\n",
      "974  0\n",
      "975  0\n",
      "976  0\n",
      "977  1\n",
      "978  0\n",
      "979  0\n",
      "980  1\n",
      "981  0\n",
      "982  1\n",
      "983  1\n",
      "984  0\n",
      "985  1\n",
      "986  1\n",
      "987  0\n",
      "988  1\n",
      "989  1\n",
      "990  0\n",
      "991  0\n",
      "992  0\n",
      "993  1\n",
      "994  1\n",
      "995  0\n",
      "996  0\n",
      "997  1\n",
      "998  1\n",
      "999  0\n",
      "\n",
      "[1000 rows x 1 columns]\n"
     ]
    }
   ],
   "source": [
    "df = pd.DataFrame(Yt)\n",
    "print(df)"
   ]
  },
  {
   "cell_type": "code",
   "execution_count": 66,
   "metadata": {},
   "outputs": [],
   "source": [
    "df.to_csv?"
   ]
  },
  {
   "cell_type": "code",
   "execution_count": 67,
   "metadata": {},
   "outputs": [],
   "source": [
    "df.to_csv('sol.csv',header=['label'],index=False)"
   ]
  },
  {
   "cell_type": "code",
   "execution_count": null,
   "metadata": {},
   "outputs": [],
   "source": []
  },
  {
   "cell_type": "code",
   "execution_count": null,
   "metadata": {},
   "outputs": [],
   "source": []
  },
  {
   "cell_type": "code",
   "execution_count": null,
   "metadata": {},
   "outputs": [],
   "source": []
  }
 ],
 "metadata": {
  "kernelspec": {
   "display_name": "Python 3",
   "language": "python",
   "name": "python3"
  },
  "language_info": {
   "codemirror_mode": {
    "name": "ipython",
    "version": 3
   },
   "file_extension": ".py",
   "mimetype": "text/x-python",
   "name": "python",
   "nbconvert_exporter": "python",
   "pygments_lexer": "ipython3",
   "version": "3.7.3"
  }
 },
 "nbformat": 4,
 "nbformat_minor": 2
}
